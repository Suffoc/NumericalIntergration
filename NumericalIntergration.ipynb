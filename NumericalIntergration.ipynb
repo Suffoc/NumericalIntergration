{
 "cells": [
  {
   "cell_type": "code",
   "execution_count": 1,
   "outputs": [],
   "source": [
    "import numpy as np\n",
    "from scipy import integrate"
   ],
   "metadata": {
    "collapsed": false,
    "pycharm": {
     "name": "#%%\n"
    }
   }
  },
  {
   "cell_type": "markdown",
   "source": [
    "# 本项目目标为用不同数值方法计算积分并比较其差异\n",
    "## 我们首先实现各种数值积分算法\n",
    "### 复化梯形公式"
   ],
   "metadata": {
    "collapsed": false,
    "pycharm": {
     "name": "#%% md\n"
    }
   }
  },
  {
   "cell_type": "code",
   "execution_count": 2,
   "outputs": [],
   "source": [
    "def compound_trapezoidal(f, n, a, b):\n",
    "    #f为函数，n + 1为求积节点数，[a,b]为积分区间\n",
    "    h = (b - a) / n\n",
    "    T1 = f(a) + f(b)\n",
    "    T2 = np.matmul(np.ones(n - 1), f(a + h * np.arange(1, n)))\n",
    "    T = h * (T1 + 2 * T2) / 2\n",
    "    return T"
   ],
   "metadata": {
    "collapsed": false,
    "pycharm": {
     "name": "#%%\n"
    }
   }
  },
  {
   "cell_type": "markdown",
   "source": [
    "### 复化Simpson公式"
   ],
   "metadata": {
    "collapsed": false,
    "pycharm": {
     "name": "#%% md\n"
    }
   }
  },
  {
   "cell_type": "code",
   "execution_count": 3,
   "outputs": [],
   "source": [
    "def compound_simpson(f, n, a, b):\n",
    "    if n % 2 != 0:\n",
    "        return \"Error!\"\n",
    "    h = (b - a) / n\n",
    "    T1 = f(a) + f(b)\n",
    "    T2 = np.matmul(np.ones(int(n / 2) - 1), f(a + h * np.arange(2, n, 2)))\n",
    "    T3 = np.matmul(np.ones(int(n / 2)), f(a + h * np.arange(1, n, 2)))\n",
    "    T = h * (T1 + 2 * T2 + 4 * T3) / 3\n",
    "    return T"
   ],
   "metadata": {
    "collapsed": false,
    "pycharm": {
     "name": "#%%\n"
    }
   }
  },
  {
   "cell_type": "markdown",
   "source": [],
   "metadata": {
    "collapsed": false,
    "pycharm": {
     "name": "#%% md\n"
    }
   }
  },
  {
   "cell_type": "markdown",
   "source": [
    "### Romberg方法"
   ],
   "metadata": {
    "collapsed": false,
    "pycharm": {
     "name": "#%% md\n"
    }
   }
  },
  {
   "cell_type": "code",
   "execution_count": 4,
   "outputs": [],
   "source": [
    "def romberg():\n",
    "    return"
   ],
   "metadata": {
    "collapsed": false,
    "pycharm": {
     "name": "#%%\n"
    }
   }
  },
  {
   "cell_type": "markdown",
   "source": [
    "### Gauss型求积公式"
   ],
   "metadata": {
    "collapsed": false,
    "pycharm": {
     "name": "#%% md\n"
    }
   }
  },
  {
   "cell_type": "code",
   "execution_count": 5,
   "outputs": [],
   "source": [
    "def gauss_3(f, a, b):\n",
    "    standard_gauss_point = np.array([-0.7745966692, 0, 0.7745966692])\n",
    "    standard_A = np.array([0.5555555556, 0.8888888889, 0.5555555556])\n",
    "    gauss_point = (b - a) * (standard_gauss_point + 1) / 2 + a\n",
    "    A = (b - a) * standard_A / 2\n",
    "    T = np.matmul(A, f(gauss_point))\n",
    "    return T\n",
    "\n",
    "def gauss_4(f, a, b):\n",
    "    standard_gauss_point = np.array([-0.8611363116, -0.3399810436, 0.3399810436, 0.8611363116])\n",
    "    standard_A = np.array([0.3478548451, 0.6521451549, 0.6521451549, 0.3478548451])\n",
    "    gauss_point = (b - a) * (standard_gauss_point + 1) / 2 + a\n",
    "    A = (b - a) * standard_A / 2\n",
    "    T = np.matmul(A, f(gauss_point))\n",
    "    return T"
   ],
   "metadata": {
    "collapsed": false,
    "pycharm": {
     "name": "#%%\n"
    }
   }
  },
  {
   "cell_type": "markdown",
   "source": [],
   "metadata": {
    "collapsed": false,
    "pycharm": {
     "name": "#%% md\n"
    }
   }
  },
  {
   "cell_type": "code",
   "execution_count": 6,
   "outputs": [],
   "source": [
    "def f(x):\n",
    "    if not hasattr(x, '__iter__'):\n",
    "        if x == 0:\n",
    "            return 1\n",
    "        return np.sin(x) / x\n",
    "    return np.where(x != 0, np.sin(x) / x, 1)"
   ],
   "metadata": {
    "collapsed": false,
    "pycharm": {
     "name": "#%%\n"
    }
   }
  },
  {
   "cell_type": "markdown",
   "source": [
    "## 计算数值积分"
   ],
   "metadata": {
    "collapsed": false,
    "pycharm": {
     "name": "#%% md\n"
    }
   }
  },
  {
   "cell_type": "code",
   "execution_count": 7,
   "outputs": [
    {
     "name": "stdout",
     "output_type": "stream",
     "text": [
      "(1.3707621681544881, 1.5218517203702133e-14)\n",
      "1.3694596090536624\n",
      "1.3707640760788318\n",
      "1.3707634372919117\n",
      "1.3707621654307103\n"
     ]
    }
   ],
   "source": [
    "print(integrate.quad(f, 0, np.pi / 2))\n",
    "print(compound_trapezoidal(f, 8, 0, np.pi / 2))\n",
    "print(compound_simpson(f, 8, 0, np.pi / 2))\n",
    "print(gauss_3(f, 0, np.pi / 2))\n",
    "print(gauss_4(f, 0, np.pi / 2))"
   ],
   "metadata": {
    "collapsed": false,
    "pycharm": {
     "name": "#%%\n"
    }
   }
  }
 ],
 "metadata": {
  "kernelspec": {
   "display_name": "Python 3",
   "language": "python",
   "name": "python3"
  },
  "language_info": {
   "codemirror_mode": {
    "name": "ipython",
    "version": 2
   },
   "file_extension": ".py",
   "mimetype": "text/x-python",
   "name": "python",
   "nbconvert_exporter": "python",
   "pygments_lexer": "ipython2",
   "version": "2.7.6"
  }
 },
 "nbformat": 4,
 "nbformat_minor": 0
}