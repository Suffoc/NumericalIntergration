{
 "cells": [
  {
   "cell_type": "code",
   "execution_count": 1,
   "outputs": [],
   "source": [
    "import numpy as np\n",
    "from scipy import integrate\n",
    "import pandas as pd\n",
    "import time"
   ],
   "metadata": {
    "collapsed": false,
    "pycharm": {
     "name": "#%%\n"
    }
   }
  },
  {
   "cell_type": "markdown",
   "source": [
    "# 本项目目标为用不同数值方法计算积分并比较其差异\n",
    "## 我们首先实现各种数值积分算法\n",
    "### 复化梯形公式"
   ],
   "metadata": {
    "collapsed": false,
    "pycharm": {
     "name": "#%% md\n"
    }
   }
  },
  {
   "cell_type": "code",
   "execution_count": 2,
   "outputs": [],
   "source": [
    "def compound_trapezoidal(f, n, a, b):\n",
    "    #f为函数，n + 1为求积节点数，[a,b]为积分区间\n",
    "    h = (b - a) / n   # h为节点间距\n",
    "    T1 = f(a) + f(b)  # 端点函数值之和\n",
    "    T2 = np.sum(f(a + h * np.arange(1, n)))   # 内节点函数值之和\n",
    "    T = h * (T1 + 2 * T2) / 2\n",
    "    return T"
   ],
   "metadata": {
    "collapsed": false,
    "pycharm": {
     "name": "#%%\n"
    }
   }
  },
  {
   "cell_type": "markdown",
   "source": [
    "### 复化Simpson公式"
   ],
   "metadata": {
    "collapsed": false,
    "pycharm": {
     "name": "#%% md\n"
    }
   }
  },
  {
   "cell_type": "code",
   "execution_count": 3,
   "outputs": [],
   "source": [
    "def compound_simpson(f, n, a, b):\n",
    "    #f为函数，n + 1为求积节点数，[a,b]为积分区间，n为偶数\n",
    "    if n % 2 != 0:\n",
    "        return \"Error!\"\n",
    "    h = (b - a) / n # h为节点间距\n",
    "    T1 = f(a) + f(b) # 端点函数值之和\n",
    "    T2 = np.sum(f(a + h * np.arange(2, n, 2)))  # 内偶节点函数值之和\n",
    "    T3 = np.sum(f(a + h * np.arange(1, n, 2)))  # 内奇节点函数值之和\n",
    "    T = h * (T1 + 2 * T2 + 4 * T3) / 3\n",
    "    return T"
   ],
   "metadata": {
    "collapsed": false,
    "pycharm": {
     "name": "#%%\n"
    }
   }
  },
  {
   "cell_type": "markdown",
   "source": [],
   "metadata": {
    "collapsed": false,
    "pycharm": {
     "name": "#%% md\n"
    }
   }
  },
  {
   "cell_type": "markdown",
   "source": [
    "### Romberg方法"
   ],
   "metadata": {
    "collapsed": false,
    "pycharm": {
     "name": "#%% md\n"
    }
   }
  },
  {
   "cell_type": "code",
   "execution_count": 4,
   "outputs": [],
   "source": [
    "def romberg(f, k0, a, b,eps = 1e-5):\n",
    "    h = b - a\n",
    "    T0 = list(np.zeros(k0 + 1))\n",
    "    T1 = list(np.zeros(k0 + 1))\n",
    "    T0[0] = h / 2 * (f(a) + f(b))\n",
    "    T = T0[0]\n",
    "    i = 1\n",
    "    j = 1\n",
    "    while(i < k0 + 1):\n",
    "        T1[0] = 1 / 2 * (T0[0] + h * sum(f(a + h*(range(1, j + 1) - 1 / 2 * np.ones(j)))))\n",
    "        for  ii in range(1,i+1):\n",
    "            T1[ii] = (4 ** ii * T1[ii - 1] - T0[ii - 1]) / (4 ** ii - 1)\n",
    "        if (np.abs(T1[i] - T) < eps):\n",
    "            return T1[i]\n",
    "        h = h / 2\n",
    "        j = j * 2\n",
    "        for l in range(i + 1):\n",
    "            T0[l] = T1[l]\n",
    "        i = min([k0, i + 1])\n",
    "        T = T0[i]\n",
    "    return T1[k0]"
   ],
   "metadata": {
    "collapsed": false,
    "pycharm": {
     "name": "#%%\n"
    }
   }
  },
  {
   "cell_type": "markdown",
   "source": [
    "### Gauss型求积公式"
   ],
   "metadata": {
    "collapsed": false,
    "pycharm": {
     "name": "#%% md\n"
    }
   }
  },
  {
   "cell_type": "code",
   "execution_count": 5,
   "outputs": [],
   "source": [
    "def gauss_3(f, a, b):\n",
    "    standard_gauss_point = np.array([-0.7745966692, 0, 0.7745966692]) # [-1, 1]上Gauss点\n",
    "    standard_A = np.array([0.5555555556, 0.8888888889, 0.5555555556]) # [-1, 1]上求积系数\n",
    "    gauss_point = (b - a) * (standard_gauss_point + 1) / 2 + a # [a, b]上Gauss点\n",
    "    A = (b - a) * standard_A / 2 # [a, b]上求积系数\n",
    "    T = np.matmul(A, f(gauss_point))\n",
    "    return T\n",
    "\n",
    "def gauss_4(f, a, b):\n",
    "    standard_gauss_point = np.array([-0.8611363116, -0.3399810436, 0.3399810436, 0.8611363116]) # [-1, 1]上Gauss点\n",
    "    standard_A = np.array([0.3478548451, 0.6521451549, 0.6521451549, 0.3478548451]) # [-1, 1]上求积系数\n",
    "    gauss_point = (b - a) * (standard_gauss_point + 1) / 2 + a # [a, b]上Gauss点\n",
    "    A = (b - a) * standard_A / 2 # [a, b]上求积系数# [a, b]上求积系数\n",
    "    T = np.matmul(A, f(gauss_point))\n",
    "    return T"
   ],
   "metadata": {
    "collapsed": false,
    "pycharm": {
     "name": "#%%\n"
    }
   }
  },
  {
   "cell_type": "markdown",
   "source": [],
   "metadata": {
    "collapsed": false,
    "pycharm": {
     "name": "#%% md\n"
    }
   }
  },
  {
   "cell_type": "markdown",
   "source": [
    "## 定义被积函数"
   ],
   "metadata": {
    "collapsed": false,
    "pycharm": {
     "name": "#%% md\n"
    }
   }
  },
  {
   "cell_type": "code",
   "execution_count": 6,
   "outputs": [],
   "source": [
    "def f(x):\n",
    "    if not hasattr(x, '__iter__'):\n",
    "        if x == 0:\n",
    "            return 1 # 在0处取极限值1\n",
    "        return np.sin(x) / x\n",
    "    return np.where(x != 0, np.sin(x) / x, 1)"
   ],
   "metadata": {
    "collapsed": false,
    "pycharm": {
     "name": "#%%\n"
    }
   }
  },
  {
   "cell_type": "markdown",
   "source": [
    "## 计算数值积分"
   ],
   "metadata": {
    "collapsed": false,
    "pycharm": {
     "name": "#%% md\n"
    }
   }
  },
  {
   "cell_type": "code",
   "execution_count": 7,
   "outputs": [
    {
     "name": "stdout",
     "output_type": "stream",
     "text": [
      "真实值 1.3707621681544881\n",
      "                  估计值\n",
      "复化梯形         1.369460\n",
      "复化Simpson    1.370764\n",
      "Romberg      1.370762\n",
      "3节点Gauss型求积  1.370763\n",
      "4节点Gauss型求积  1.370762\n"
     ]
    }
   ],
   "source": [
    "truth_value = integrate.quad(f, 0, np.pi / 2)[0] # 利用包中的方法计算，视之为真实值，实际误差数量级为10^-14\n",
    "print(\"真实值\", truth_value)\n",
    "# 计算各种方法下的积分估计值\n",
    "result = pd.DataFrame([compound_trapezoidal(f, 8, 0, np.pi / 2),\n",
    "                       compound_simpson(f, 8, 0, np.pi / 2),\n",
    "                       romberg(f, 3, 0, np.pi / 2,1e-5),\n",
    "                       gauss_3(f, 0, np.pi / 2),\n",
    "                       gauss_4(f, 0, np.pi / 2)], index = [\"复化梯形\", \"复化Simpson\", \"Romberg\", \"3节点Gauss型求积\", \"4节点Gauss型求积\"], columns=[\"估计值\"])\n",
    "\n",
    "print(result)"
   ],
   "metadata": {
    "collapsed": false,
    "pycharm": {
     "name": "#%%\n"
    }
   }
  },
  {
   "cell_type": "markdown",
   "source": [
    "## 计算误差和时间"
   ],
   "metadata": {
    "collapsed": false,
    "pycharm": {
     "name": "#%% md\n"
    }
   }
  },
  {
   "cell_type": "code",
   "execution_count": 8,
   "outputs": [
    {
     "name": "stdout",
     "output_type": "stream",
     "text": [
      "                  估计值           误差值  计算时间*10000\n",
      "复化梯形         1.369460  1.302559e-03    0.203457\n",
      "复化Simpson    1.370764 -1.907924e-06    0.373030\n",
      "Romberg      1.370762 -3.615108e-12    3.767920\n",
      "3节点Gauss型求积  1.370763 -1.269137e-06    0.184510\n",
      "4节点Gauss型求积  1.370762  2.723778e-09    0.188465\n"
     ]
    }
   ],
   "source": [
    "# 计算各种方法的误差\n",
    "err = np.ones_like(result[\"估计值\"]) * truth_value - result[\"估计值\"]\n",
    "result.insert(loc=len(result.columns), column='误差值', value=err)\n",
    "\n",
    "# 通过重复每种算法10000次来计算各种方法所需的时间\n",
    "\n",
    "t = []\n",
    "Stime = time.time()\n",
    "for i in range(10000):\n",
    "    compound_trapezoidal(f, 8, 0, np.pi / 2)\n",
    "Etime = time.time()\n",
    "t.append(Etime - Stime)\n",
    "\n",
    "Stime = time.time()\n",
    "for i in range(10000):\n",
    "    compound_simpson(f, 8, 0, np.pi / 2)\n",
    "Etime = time.time()\n",
    "t.append(Etime - Stime)\n",
    "\n",
    "Stime = time.time()\n",
    "for i in range(10000):\n",
    "    romberg(f, 8, 0, np.pi / 2)\n",
    "Etime = time.time()\n",
    "t.append(Etime - Stime)\n",
    "\n",
    "Stime = time.time()\n",
    "for i in range(10000):\n",
    "    gauss_3(f, 0, np.pi / 2)\n",
    "Etime = time.time()\n",
    "t.append(Etime - Stime)\n",
    "\n",
    "Stime = time.time()\n",
    "for i in range(10000):\n",
    "    gauss_4(f, 0, np.pi / 2)\n",
    "Etime = time.time()\n",
    "t.append(Etime - Stime)\n",
    "t = np.array(t)\n",
    "\n",
    "result.insert(loc = len(result.columns), column=\"计算时间*10000\", value = t)\n",
    "print(result)"
   ],
   "metadata": {
    "collapsed": false,
    "pycharm": {
     "name": "#%%\n"
    }
   }
  },
  {
   "cell_type": "code",
   "execution_count": 9,
   "outputs": [
    {
     "name": "stdout",
     "output_type": "stream",
     "text": [
      "\\begin{table}\n",
      "\\caption{数值结果}\n",
      "\\centering\n",
      "\\begin{tabular}{lrrr}\n",
      "\\toprule\n",
      "{} &       估计值 &           误差值 &  计算时间*10000 \\\\\n",
      "\\midrule\n",
      "复化梯形        &  1.369460 &  1.302559e-03 &    0.203457 \\\\\n",
      "复化Simpson   &  1.370764 & -1.907924e-06 &    0.373030 \\\\\n",
      "Romberg     &  1.370762 & -3.615108e-12 &    3.767920 \\\\\n",
      "3节点Gauss型求积 &  1.370763 & -1.269137e-06 &    0.184510 \\\\\n",
      "4节点Gauss型求积 &  1.370762 &  2.723778e-09 &    0.188465 \\\\\n",
      "\\bottomrule\n",
      "\\end{tabular}\n",
      " \\end{table}\n"
     ]
    },
    {
     "name": "stderr",
     "output_type": "stream",
     "text": [
      "C:\\Users\\APLS\\AppData\\Local\\Temp\\ipykernel_1408\\39405407.py:3: FutureWarning: In future versions `DataFrame.to_latex` is expected to utilise the base implementation of `Styler.to_latex` for formatting and rendering. The arguments signature may therefore change. It is recommended instead to use `DataFrame.style.to_latex` which also contains additional functionality.\n",
      "  print(result.to_latex(), \"\\\\end{table}\")\n"
     ]
    }
   ],
   "source": [
    "# 输出latex公式\n",
    "print(\"\\\\begin{table}\\n\\\\caption{数值结果}\\n\\\\centering\")\n",
    "print(result.to_latex(), \"\\\\end{table}\")"
   ],
   "metadata": {
    "collapsed": false,
    "pycharm": {
     "name": "#%%\n"
    }
   }
  },
  {
   "cell_type": "markdown",
   "source": [],
   "metadata": {
    "collapsed": false,
    "pycharm": {
     "name": "#%% md\n"
    }
   }
  }
 ],
 "metadata": {
  "kernelspec": {
   "display_name": "Python 3",
   "language": "python",
   "name": "python3"
  },
  "language_info": {
   "codemirror_mode": {
    "name": "ipython",
    "version": 2
   },
   "file_extension": ".py",
   "mimetype": "text/x-python",
   "name": "python",
   "nbconvert_exporter": "python",
   "pygments_lexer": "ipython2",
   "version": "2.7.6"
  }
 },
 "nbformat": 4,
 "nbformat_minor": 0
}